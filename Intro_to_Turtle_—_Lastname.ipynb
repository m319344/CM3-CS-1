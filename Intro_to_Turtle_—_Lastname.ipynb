{
  "nbformat": 4,
  "nbformat_minor": 0,
  "metadata": {
    "colab": {
      "provenance": [],
      "collapsed_sections": [
        "VlnQg6-qWiMJ"
      ],
      "include_colab_link": true
    },
    "kernelspec": {
      "name": "python3",
      "display_name": "Python 3"
    }
  },
  "cells": [
    {
      "cell_type": "markdown",
      "metadata": {
        "id": "view-in-github",
        "colab_type": "text"
      },
      "source": [
        "<a href=\"https://colab.research.google.com/github/m319344/CM3-CS-1/blob/main/Intro_to_Turtle_%E2%80%94_Lastname.ipynb\" target=\"_parent\"><img src=\"https://colab.research.google.com/assets/colab-badge.svg\" alt=\"Open In Colab\"/></a>"
      ]
    },
    {
      "cell_type": "code",
      "source": [],
      "metadata": {
        "id": "aKQ407M9x8ww"
      },
      "execution_count": null,
      "outputs": []
    },
    {
      "cell_type": "markdown",
      "metadata": {
        "id": "xSmZGyEPUogF"
      },
      "source": [
        "# Welcome to ColabTurtle!\n",
        "\n",
        "This is an interactive Python notebook presented by CoderDojo Brisbane. Python is the programming language that we will use here.\n",
        "\n",
        "👉_ Click the (►) Run button in the code cell below to start ColabTurtle.\n",
        "\n",
        "> The first time you run this, you may need to click though a few confirmations.\n",
        "\n",
        "> **Remember to do this every time** you open this notebook."
      ]
    },
    {
      "cell_type": "code",
      "metadata": {
        "id": "Y-tzhdhH7QbM",
        "colab": {
          "base_uri": "https://localhost:8080/",
          "height": 719
        },
        "outputId": "183e1e93-6dad-4274-fe7c-4db69078e9e0"
      },
      "source": [
        "# <<< Click the Run button to the left\n",
        "\n",
        "!pip install ColabTurtle\n",
        "from ColabTurtle.Turtle import *\n",
        "initializeTurtle()"
      ],
      "execution_count": null,
      "outputs": [
        {
          "output_type": "stream",
          "name": "stdout",
          "text": [
            "Collecting ColabTurtle\n",
            "  Downloading ColabTurtle-2.1.0.tar.gz (6.8 kB)\n",
            "  Preparing metadata (setup.py) ... \u001b[?25l\u001b[?25hdone\n",
            "Building wheels for collected packages: ColabTurtle\n",
            "  Building wheel for ColabTurtle (setup.py) ... \u001b[?25l\u001b[?25hdone\n",
            "  Created wheel for ColabTurtle: filename=ColabTurtle-2.1.0-py3-none-any.whl size=7642 sha256=2bfcd375de39eb344299259eda777a5f803fb691a71d198ddfa0a0f9e4838522\n",
            "  Stored in directory: /root/.cache/pip/wheels/f6/9e/81/137e7da25129474562d30f8660be599e5c8d79228cb747e5b9\n",
            "Successfully built ColabTurtle\n",
            "Installing collected packages: ColabTurtle\n",
            "Successfully installed ColabTurtle-2.1.0\n"
          ]
        },
        {
          "output_type": "display_data",
          "data": {
            "text/plain": [
              "<IPython.core.display.HTML object>"
            ],
            "text/html": [
              "\n",
              "      <svg width=\"800\" height=\"500\">\n",
              "        <rect width=\"100%\" height=\"100%\" fill=\"black\"/>\n",
              "        \n",
              "        <g visibility=visible transform=\"rotate(360,400,250) translate(382, 232)\">\n",
              "<path style=\" stroke:none;fill-rule:evenodd;fill:white;fill-opacity:1;\" d=\"M 18.214844 0.632812 C 16.109375 1.800781 15.011719 4.074219 15.074219 7.132812 L 15.085938 7.652344 L 14.785156 7.496094 C 13.476562 6.824219 11.957031 6.671875 10.40625 7.066406 C 8.46875 7.550781 6.515625 9.15625 4.394531 11.992188 C 3.0625 13.777344 2.679688 14.636719 3.042969 15.027344 L 3.15625 15.152344 L 3.519531 15.152344 C 4.238281 15.152344 4.828125 14.886719 8.1875 13.039062 C 9.386719 12.378906 10.371094 11.839844 10.378906 11.839844 C 10.386719 11.839844 10.355469 11.929688 10.304688 12.035156 C 9.832031 13.09375 9.257812 14.820312 8.96875 16.078125 C 7.914062 20.652344 8.617188 24.53125 11.070312 27.660156 C 11.351562 28.015625 11.363281 27.914062 10.972656 28.382812 C 8.925781 30.84375 7.945312 33.28125 8.238281 35.1875 C 8.289062 35.527344 8.28125 35.523438 8.917969 35.523438 C 10.941406 35.523438 13.074219 34.207031 15.136719 31.6875 C 15.359375 31.417969 15.328125 31.425781 15.5625 31.574219 C 16.292969 32.042969 18.023438 32.964844 18.175781 32.964844 C 18.335938 32.964844 19.941406 32.210938 20.828125 31.71875 C 20.996094 31.625 21.136719 31.554688 21.136719 31.558594 C 21.203125 31.664062 21.898438 32.414062 22.222656 32.730469 C 23.835938 34.300781 25.5625 35.132812 27.582031 35.300781 C 27.90625 35.328125 27.9375 35.308594 28.007812 34.984375 C 28.382812 33.242188 27.625 30.925781 25.863281 28.425781 L 25.542969 27.96875 L 25.699219 27.785156 C 28.945312 23.960938 29.132812 18.699219 26.257812 11.96875 L 26.207031 11.84375 L 27.945312 12.703125 C 31.53125 14.476562 32.316406 14.800781 33.03125 14.800781 C 33.976562 14.800781 33.78125 13.9375 32.472656 12.292969 C 28.519531 7.355469 25.394531 5.925781 21.921875 7.472656 L 21.558594 7.636719 L 21.578125 7.542969 C 21.699219 6.992188 21.761719 5.742188 21.699219 5.164062 C 21.496094 3.296875 20.664062 1.964844 19.003906 0.855469 C 18.480469 0.503906 18.457031 0.5 18.214844 0.632812\"/>\n",
              "</g>\n",
              "      </svg>\n",
              "    "
            ]
          },
          "metadata": {}
        }
      ]
    },
    {
      "cell_type": "markdown",
      "metadata": {
        "id": "UrNLqLYZ0hPf"
      },
      "source": [
        "\n",
        "\n",
        "If this works, you should see some messages which ends with:\n",
        "\n",
        "> ```... Successfully installed ColabTurtle ...```\n",
        "\n",
        "Below that you should see a turtle against a black background. The turtle is the hero of this exercise! We will be writing code to get the turtle to draw for us."
      ]
    },
    {
      "cell_type": "markdown",
      "metadata": {
        "id": "bJB2sOfxWLFM"
      },
      "source": [
        "# Let's draw a square\n",
        "\n",
        "Run the cell below and see what happens.\n",
        "\n",
        "👉_ Click (►) to run, or you can press *Ctrl + Enter* (or *Cmd + Enter* on a Mac) on your keyboard."
      ]
    },
    {
      "cell_type": "code",
      "metadata": {
        "id": "bGK0waC-W7P2",
        "colab": {
          "base_uri": "https://localhost:8080/",
          "height": 521
        },
        "outputId": "1bb0fd6d-51e9-47f1-9b16-3f750519ef19"
      },
      "source": [
        "initializeTurtle()  # This clears the screen, and starts over\n",
        "\n",
        "right(90)           # Turn right by 90 degrees\n",
        "forward(150)        # Move forward by 150 pixels"
      ],
      "execution_count": null,
      "outputs": [
        {
          "output_type": "display_data",
          "data": {
            "text/plain": [
              "<IPython.core.display.HTML object>"
            ],
            "text/html": [
              "\n",
              "      <svg width=\"800\" height=\"500\">\n",
              "        <rect width=\"100%\" height=\"100%\" fill=\"black\"/>\n",
              "        <line x1=\"400\" y1=\"250\" x2=\"550.0\" y2=\"250.0\" stroke-linecap=\"round\" style=\"stroke:white;stroke-width:4\"/>\n",
              "        <g visibility=visible transform=\"rotate(90,550.0,250.0) translate(532.0, 232.0)\">\n",
              "<path style=\" stroke:none;fill-rule:evenodd;fill:white;fill-opacity:1;\" d=\"M 18.214844 0.632812 C 16.109375 1.800781 15.011719 4.074219 15.074219 7.132812 L 15.085938 7.652344 L 14.785156 7.496094 C 13.476562 6.824219 11.957031 6.671875 10.40625 7.066406 C 8.46875 7.550781 6.515625 9.15625 4.394531 11.992188 C 3.0625 13.777344 2.679688 14.636719 3.042969 15.027344 L 3.15625 15.152344 L 3.519531 15.152344 C 4.238281 15.152344 4.828125 14.886719 8.1875 13.039062 C 9.386719 12.378906 10.371094 11.839844 10.378906 11.839844 C 10.386719 11.839844 10.355469 11.929688 10.304688 12.035156 C 9.832031 13.09375 9.257812 14.820312 8.96875 16.078125 C 7.914062 20.652344 8.617188 24.53125 11.070312 27.660156 C 11.351562 28.015625 11.363281 27.914062 10.972656 28.382812 C 8.925781 30.84375 7.945312 33.28125 8.238281 35.1875 C 8.289062 35.527344 8.28125 35.523438 8.917969 35.523438 C 10.941406 35.523438 13.074219 34.207031 15.136719 31.6875 C 15.359375 31.417969 15.328125 31.425781 15.5625 31.574219 C 16.292969 32.042969 18.023438 32.964844 18.175781 32.964844 C 18.335938 32.964844 19.941406 32.210938 20.828125 31.71875 C 20.996094 31.625 21.136719 31.554688 21.136719 31.558594 C 21.203125 31.664062 21.898438 32.414062 22.222656 32.730469 C 23.835938 34.300781 25.5625 35.132812 27.582031 35.300781 C 27.90625 35.328125 27.9375 35.308594 28.007812 34.984375 C 28.382812 33.242188 27.625 30.925781 25.863281 28.425781 L 25.542969 27.96875 L 25.699219 27.785156 C 28.945312 23.960938 29.132812 18.699219 26.257812 11.96875 L 26.207031 11.84375 L 27.945312 12.703125 C 31.53125 14.476562 32.316406 14.800781 33.03125 14.800781 C 33.976562 14.800781 33.78125 13.9375 32.472656 12.292969 C 28.519531 7.355469 25.394531 5.925781 21.921875 7.472656 L 21.558594 7.636719 L 21.578125 7.542969 C 21.699219 6.992188 21.761719 5.742188 21.699219 5.164062 C 21.496094 3.296875 20.664062 1.964844 19.003906 0.855469 C 18.480469 0.503906 18.457031 0.5 18.214844 0.632812\"/>\n",
              "</g>\n",
              "      </svg>\n",
              "    "
            ]
          },
          "metadata": {}
        }
      ]
    },
    {
      "cell_type": "markdown",
      "metadata": {
        "id": "zUya5jh5BAJx"
      },
      "source": [
        "*initializeTurtle()* clears the screen, and sends the turtle back to the middle, ready to start over.\n",
        "\n",
        "Here we asked the turtle to turn right and draw a line. The line is 150 pixels long.\n",
        "\n",
        "👉_ Try changing the code below to get a different direction and length.\n",
        "\n",
        "❓ See how far the turtle can go before it crosses the edge of the drawing area."
      ]
    },
    {
      "cell_type": "code",
      "metadata": {
        "id": "pSY6CCAxKaKn"
      },
      "source": [
        "initializeTurtle()\n",
        "\n",
        "right(90)           # Try changing the turtle's direction\n",
        "forward(150)        # Try moving a smaller or bigger step"
      ],
      "execution_count": null,
      "outputs": []
    },
    {
      "cell_type": "markdown",
      "metadata": {
        "id": "y2E7yoclKzb1"
      },
      "source": [
        "Just by adding a few lines of code, you will have a square.\n",
        "\n",
        "👉_ Try it below:"
      ]
    },
    {
      "cell_type": "code",
      "metadata": {
        "id": "y5WQsQuALD9X"
      },
      "source": [
        "initializeTurtle()\n",
        "\n",
        "right(90)\n",
        "forward(150)\n",
        "# Add your code here:\n",
        "right(90)\n",
        "forward(150)\n",
        "right(90)\n",
        "forward(150)\n",
        "right(90)\n",
        "forward(150)\n"
      ],
      "execution_count": null,
      "outputs": []
    },
    {
      "cell_type": "markdown",
      "metadata": {
        "id": "nukUFsOaOVHr"
      },
      "source": [
        "<details>\n",
        "  <summary>Answer</summary>\n",
        "\n",
        "> ```\n",
        "initializeTurtle()\n",
        "```\n",
        "```\n",
        "right(90)\n",
        "forward(150)\n",
        "right(90)\n",
        "forward(150)\n",
        "right(90)\n",
        "forward(150)\n",
        "right(90)\n",
        "forward(150)\n",
        "```\n",
        "\n",
        "</details>"
      ]
    },
    {
      "cell_type": "markdown",
      "metadata": {
        "id": "eEkEmebrY2W1"
      },
      "source": [
        "## Loop around\n",
        "\n",
        "We asked the turtle to draw a square by telling it to:\n",
        "\n",
        "> Turn right, then go forward 150 pixels\n",
        "\n",
        "> Turn right, then go forward 150 pixels\n",
        "\n",
        "> Turn right, then go forward 150 pixels\n",
        "\n",
        "> Turn right, then go forward 150 pixels\n",
        "\n",
        "Here's another way to tell the turtle to perform the same actions:\n",
        "\n",
        "> Repeat this 4 times:\n",
        "\n",
        "> Turn right, then go forward 150 pixels\n",
        "\n",
        "This is called a *loop* in Python.  A loop repeats the same set of code - as many times as you specify. For those familiar with [Scratch](https://scratch.mit.edu/projects/editor), this is just like the *Repeat* block.\n",
        "\n",
        "👉_ Can you draw the same square using a loop?\n",
        "\n",
        "You can learn to do a loop from this W3Schools tutorial. W3Schools is a great place to learn Python and many other programming languages. On the page, look for the function that *loops through a set of code a specified number of times*:\n",
        "\n",
        "https://www.w3schools.com/python/python_for_loops.asp"
      ]
    },
    {
      "cell_type": "code",
      "metadata": {
        "id": "t1u3P8y37r4-"
      },
      "source": [
        "initializeTurtle()\n",
        "\n",
        "# In Python, how do you say \"Repeat this 4 times\"?\n",
        "# Add your code here (Hint: It's just one line):\n",
        "for side in range(4):\n",
        "  right(90)\n",
        "  forward(150)"
      ],
      "execution_count": null,
      "outputs": []
    },
    {
      "cell_type": "markdown",
      "metadata": {
        "id": "VlnQg6-qWiMJ"
      },
      "source": [
        "<details>\n",
        "  <summary>Answer</summary>\n",
        "\n",
        "> ```\n",
        "initializeTurtle()\n",
        "```\n",
        "> ```\n",
        "for side in range(4):\n",
        "  right(90)\n",
        "  forward(150)\n",
        "```\n",
        "\n",
        "Don't forget the colon ```:``` at the end of the ```for``` statement. It won't work without it.\n",
        "\n",
        "## Which *side* is that?\n",
        "\n",
        "You can read the line this way:\n",
        "\n",
        "> For each *side* in the range of 4\n",
        "\n",
        "We are referring to *each side of the square* here. ```side``` is a variable name. You can pretty much name it by any single word you want (with a few exceptions). So you can call it *x*, or *line*, or *magic* even:\n",
        "\n",
        "> ```\n",
        "for x in range(4):\n",
        "```\n",
        "> ```\n",
        "for line in range(4):\n",
        "```\n",
        "> ```\n",
        "for magic in range(4):\n",
        "```\n",
        "\n",
        "## Indent it, mate\n",
        "\n",
        "Notice that ```right(90)``` and ```forward(150)``` are set a bit further in than the other lines?\n",
        "\n",
        "> ```\n",
        "for side in range(4):\n",
        "  right(90)\n",
        "  forward(150)\n",
        "```\n",
        "\n",
        "This is called ***indenting***. This tells Python: These indented lines below are the set of code that you want to repeat. If you have a ```for``` statement and do not indent the line below, Python will get confused and give you an error.\n",
        "\n",
        "</details>"
      ]
    },
    {
      "cell_type": "markdown",
      "metadata": {
        "id": "j0NwJkaEe3qW"
      },
      "source": [
        "# Teach the turtle a new trick\n",
        "\n",
        "We can make the loop for drawing a square into a function that can be re-used many times, just by calling the function by name. This is kind of like saying to the turtle, \"Draw a square, please.\" The turtle knows what \"draw a square\" means because you have created a function to do just that.\n",
        "\n",
        "We'll name our function ```drawSquare```. You write a function this way:"
      ]
    },
    {
      "cell_type": "code",
      "metadata": {
        "id": "lvDLhN92fII0"
      },
      "source": [
        "def drawSquare():          # Define the function name\n",
        "  for side in range(4):    # Code for drawing a square goes here - beginning with an indent\n",
        "    right(90)\n",
        "    forward(150)\n",
        "\n",
        "def drawTriangle():\n",
        "  for side in range(3):\n",
        "    right(120)\n",
        "    forward(150)"
      ],
      "execution_count": null,
      "outputs": []
    },
    {
      "cell_type": "markdown",
      "metadata": {
        "id": "sE_ws9KZL1dR"
      },
      "source": [
        "As before, you see the indent for the loop, below ```for side in range(4):```. Here we have another indent below ```def drawSquare():```. You need indenting to tell Python where the function starts and ends, just as you do in a loop.\n",
        "\n",
        "👆 Run the code above. This will create the function, ready to be uses. A square won't appear just yet, though.\n",
        "\n",
        "👇 Next, run the function by calling it this way:"
      ]
    },
    {
      "cell_type": "code",
      "metadata": {
        "id": "vL8C-ILSUAZN"
      },
      "source": [
        "initializeTurtle()\n",
        "speed(7)\n",
        "\n",
        "# for sq in range(6):\n",
        "#   drawSquare()          # Call your function to run it\n",
        "#   right(60)\n",
        "\n",
        "for t in range(10):\n",
        "  drawTriangle()\n",
        "  right(36)\n"
      ],
      "execution_count": null,
      "outputs": []
    },
    {
      "cell_type": "markdown",
      "metadata": {
        "id": "Up8QE5hYGHco"
      },
      "source": [
        "The turtle should draw you a square 👌"
      ]
    },
    {
      "cell_type": "markdown",
      "metadata": {
        "id": "QyuaM6cwVWxz"
      },
      "source": [
        "# Make your own functions\n",
        "\n",
        "Let's finish this exercise by creating a few functions of your own.\n",
        "\n",
        "👇 In the code cell below, write a function that draws a triangle, then call it.\n",
        "\n",
        "💡 Try typing the code yourself, instead of copying and pasting from the previous code. Programmers generally learn more by typing the code themselves.\n",
        "\n",
        "Hint: Turn 120 degrees, instead of 90"
      ]
    },
    {
      "cell_type": "code",
      "metadata": {
        "id": "WpRBRXPVG8UA"
      },
      "source": [
        "# Add your code here:\n"
      ],
      "execution_count": null,
      "outputs": []
    },
    {
      "cell_type": "markdown",
      "metadata": {
        "id": "XTBuZhV3JXgN"
      },
      "source": [
        "<details>\n",
        "  <summary>Answer</summary>\n",
        "\n",
        "```\n",
        "def drawTriangle():\n",
        "  for side in range(3):\n",
        "    right(120)\n",
        "    forward(150)\n",
        "\n",
        "initializeTurtle()\n",
        "drawTriangle()\n",
        "```\n",
        "\n",
        "</details>"
      ]
    },
    {
      "cell_type": "markdown",
      "metadata": {
        "id": "A18J3F3PV-67"
      },
      "source": [
        "How about a pentagon (5 sides), a hexagon (6 sides), or even an octagon (8 sides)?\n",
        "\n",
        "👇 You can insert your own code cell by hovering your mouse near the bottom of this cell, and clicking the button ```+ Code```.\n",
        "\n",
        "💡 Hint: A pentagon has 5 sides and **5 angles**. Divide 360 by **5**, and you will get the degrees to turn each time."
      ]
    },
    {
      "cell_type": "markdown",
      "metadata": {
        "id": "wDgYwDmYKIY0"
      },
      "source": [
        "# Your Challenge\n",
        "You can then use the functions to form complex, interesting patterns like this flower made up of 5 squares.\n",
        "\n",
        "In the meantime, perhaps take it as a ***challenge*** to produce this flower using what you have learnt today.\n",
        "\n",
        "![image.png](data:image/png;base64,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)\n",
        "\n",
        "---\n",
        "---\n"
      ]
    },
    {
      "cell_type": "code",
      "source": [],
      "metadata": {
        "id": "r0hosaaVqmI7"
      },
      "execution_count": null,
      "outputs": []
    }
  ]
}